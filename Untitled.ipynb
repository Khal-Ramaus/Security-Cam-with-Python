{
 "cells": [
  {
   "cell_type": "code",
   "execution_count": 1,
   "id": "c64ee0a3",
   "metadata": {},
   "outputs": [],
   "source": [
    "import cv2\n",
    "import time\n",
    "import datetime"
   ]
  },
  {
   "cell_type": "code",
   "execution_count": 41,
   "id": "8990b526",
   "metadata": {},
   "outputs": [],
   "source": [
    "def countApplesAndOranges(s, t, a, b, apples, oranges):\n",
    "    # Write your code here\n",
    "    countAp=0\n",
    "    countOr=0\n",
    "    for i in range(len(apples)):\n",
    "        rgA=a+apples[i]\n",
    "        if rgA>=s and rgA<=t:\n",
    "            countAp+=1\n",
    "            print(\"Ap: \",rgA)\n",
    "    \n",
    "    for i in range(len(oranges)):\n",
    "        rgO=b+oranges[i]\n",
    "        print(\"Or: \",rgO)\n",
    "        if rgO>=s and rgO<=t:\n",
    "            countOr+=1\n",
    "            print(\"Or: \",rgO)\n",
    "    print(countAp)\n",
    "    print(countOr)\n",
    "    #return countAp, countOr"
   ]
  },
  {
   "cell_type": "code",
   "execution_count": 44,
   "id": "96eb4887",
   "metadata": {
    "scrolled": true
   },
   "outputs": [
    {
     "name": "stdout",
     "output_type": "stream",
     "text": [
      "2 3\n",
      "1 5\n",
      "1 1\n",
      "2\n",
      "-2\n",
      "Ap:  3\n",
      "Or:  -1\n",
      "1\n",
      "0\n"
     ]
    }
   ],
   "source": [
    "first_multiple_input = input().rstrip().split()\n",
    "\n",
    "s = int(first_multiple_input[0])\n",
    "\n",
    "t = int(first_multiple_input[1])\n",
    "\n",
    "second_multiple_input = input().rstrip().split()\n",
    "\n",
    "a = int(second_multiple_input[0])\n",
    "\n",
    "b = int(second_multiple_input[1])\n",
    "\n",
    "third_multiple_input = input().rstrip().split()\n",
    "\n",
    "m = int(third_multiple_input[0])\n",
    "\n",
    "n = int(third_multiple_input[1])\n",
    "\n",
    "apples = list(map(int, input().rstrip().split()))\n",
    "\n",
    "oranges = list(map(int, input().rstrip().split()))\n",
    "\n",
    "countApplesAndOranges(s, t, a, b, apples, oranges)"
   ]
  },
  {
   "cell_type": "code",
   "execution_count": 45,
   "id": "505f95d9",
   "metadata": {},
   "outputs": [
    {
     "data": {
      "text/plain": [
       "-1"
      ]
     },
     "execution_count": 45,
     "metadata": {},
     "output_type": "execute_result"
    }
   ],
   "source": [
    "(47-21)%(3-6)"
   ]
  },
  {
   "cell_type": "code",
   "execution_count": 5,
   "id": "58784952",
   "metadata": {},
   "outputs": [
    {
     "name": "stdout",
     "output_type": "stream",
     "text": [
      "Started Recording\n",
      "Stop Recording!\n",
      "Started Recording\n",
      "Stop Recording!\n"
     ]
    }
   ],
   "source": [
    "cap = cv2.VideoCapture(0)\n",
    "\n",
    "face_cascade = cv2.CascadeClassifier(cv2.data.haarcascades + 'haarcascade_frontalface_default.xml')\n",
    "body_cascade = cv2.CascadeClassifier(cv2.data.haarcascades + 'haarcascade_fullbody.xml')\n",
    "detection = False\n",
    "detection_stopped_time = None\n",
    "timer_started = False\n",
    "SECONDS_TO_RECORD_AFTER_DETECTION = 5\n",
    "frame_size = (int(cap.get(3)), int(cap.get(4)))\n",
    "fourcc = cv2.VideoWriter_fourcc(*\"mp4v\")\n",
    "\n",
    "\n",
    "while True:\n",
    "    _, frame = cap.read()\n",
    "    \n",
    "    gray = cv2.cvtColor(frame, cv2.COLOR_BGR2GRAY)\n",
    "    faces = face_cascade.detectMultiScale(gray, 1.3, 5)\n",
    "    bodies = face_cascade.detectMultiScale(gray, 1.3, 5)\n",
    "    \n",
    "    if len(faces)+len(bodies)>0:\n",
    "        if detection:\n",
    "            timer_started = False\n",
    "        else:\n",
    "            detection = True\n",
    "            current_time = datetime.datetime.now().strftime(\"%d-%m-%Y-%H-%M-%S\")\n",
    "            out = cv2.VideoWriter(f\"{current_time}.mp4\", fourcc, 20.0, frame_size)\n",
    "            print(\"Started Recording\")\n",
    "    elif detection:\n",
    "        if timer_started:\n",
    "            if time.time() - detection_stopped_time >= SECONDS_TO_RECORD_AFTER_DETECTION:\n",
    "                detection = False\n",
    "                timer_started = False\n",
    "                out.release()\n",
    "                print('Stop Recording!')\n",
    "        else:\n",
    "            timer_started = True\n",
    "            detection_stopped_time = time.time()\n",
    "    \n",
    "    if detection:\n",
    "        out.write(frame)\n",
    "    \n",
    "#     for(x, y, width, height) in faces:\n",
    "#         cv2.rectangle(frame, (x,y), (x+width, y+height), (255, 0, 0), 3)\n",
    "    \n",
    "    cv2.imshow(\"Camera\", frame)\n",
    "    \n",
    "    \n",
    "    \n",
    "    if cv2.waitKey(1) == ord('q'):\n",
    "        break\n",
    "\n",
    "out.release()\n",
    "cap.release()\n",
    "cv2.destroyAllWindows()"
   ]
  }
 ],
 "metadata": {
  "kernelspec": {
   "display_name": "Python 3",
   "language": "python",
   "name": "python3"
  },
  "language_info": {
   "codemirror_mode": {
    "name": "ipython",
    "version": 3
   },
   "file_extension": ".py",
   "mimetype": "text/x-python",
   "name": "python",
   "nbconvert_exporter": "python",
   "pygments_lexer": "ipython3",
   "version": "3.8.8"
  }
 },
 "nbformat": 4,
 "nbformat_minor": 5
}
